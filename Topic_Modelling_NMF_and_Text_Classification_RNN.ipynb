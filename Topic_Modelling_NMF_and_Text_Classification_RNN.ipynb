{
  "nbformat": 4,
  "nbformat_minor": 0,
  "metadata": {
    "colab": {
      "name": "Topic_Modelling_NMF_and_Text_Classification_RNN.ipynb",
      "provenance": []
    },
    "kernelspec": {
      "name": "python3",
      "display_name": "Python 3"
    },
    "language_info": {
      "name": "python"
    }
  },
  "cells": [
    {
      "cell_type": "code",
      "metadata": {
        "colab": {
          "base_uri": "https://localhost:8080/"
        },
        "id": "cWzl7bykDeM9",
        "outputId": "47ad6006-24bb-4498-a812-eba2984550fa"
      },
      "source": [
        "%reset"
      ],
      "execution_count": null,
      "outputs": [
        {
          "output_type": "stream",
          "text": [
            "Once deleted, variables cannot be recovered. Proceed (y/[n])? y\n"
          ],
          "name": "stdout"
        }
      ]
    },
    {
      "cell_type": "code",
      "metadata": {
        "colab": {
          "base_uri": "https://localhost:8080/"
        },
        "id": "841evE89BhXy",
        "outputId": "552d81bf-05ab-43f7-cc07-2e6f225f0936"
      },
      "source": [
        "from google.colab import drive\n",
        "drive.mount('/content/drive',force_remount=True)"
      ],
      "execution_count": null,
      "outputs": [
        {
          "output_type": "stream",
          "text": [
            "Mounted at /content/drive\n"
          ],
          "name": "stdout"
        }
      ]
    },
    {
      "cell_type": "code",
      "metadata": {
        "id": "SKDvHfSnAhZ5"
      },
      "source": [
        "from googletrans import Translator, constants\n",
        "from pprint import pprint\n",
        "# init the Google API translator\n",
        "translator = Translator()\n",
        "\n",
        "news_book=[]\n",
        "news_game=[]\n",
        "news_health=[]\n",
        "news_politics=[]\n",
        "news_weather=[]\n",
        "\n",
        "Labels=[]\n",
        "\n",
        "for i in range(1,5):\n",
        "  file1 = open(\"/content/drive/MyDrive/Colab Notebooks/text_dataset/news_book/news\"+str(i)+\".txt\")\n",
        "  X=file1.read()\n",
        "  translation = translator.translate(X)\n",
        "  news_book.append(translation.text)\n",
        "  Labels.append(1)\n",
        "\n",
        "for i in range(1,5):\n",
        "  file2 = open(\"/content/drive/MyDrive/Colab Notebooks/text_dataset/news_game/news\"+str(i)+\".txt\")\n",
        "  X=file2.read()\n",
        "  translation = translator.translate(X)\n",
        "  news_game.append(translation.text)\n",
        "  Labels.append(0)\n",
        "\n",
        "for i in range(1,5):\n",
        "  file3 = open(\"/content/drive/MyDrive/Colab Notebooks/text_dataset/news_health/news\"+str(i)+\".txt\")\n",
        "  X=file3.read()\n",
        "  translation = translator.translate(X)\n",
        "  news_health.append(translation.text)\n",
        "  Labels.append(0)\n",
        "\n",
        "for i in range(1,5):\n",
        "  file4 = open(\"/content/drive/MyDrive/Colab Notebooks/text_dataset/news_politics/news\"+str(i)+\".txt\")\n",
        "  X=file4.read()\n",
        "  translation = translator.translate(X)\n",
        "  news_politics.append(translation.text)\n",
        "  Labels.append(0)\n",
        "\n",
        "for i in range(1,5):\n",
        "  file5 = open(\"/content/drive/MyDrive/Colab Notebooks/text_dataset/news_weather/news\"+str(i)+\".txt\")\n",
        "  X=file5.read()\n",
        "  translation = translator.translate(X)\n",
        "  news_weather.append(translation.text)\n",
        "  Labels.append(0)"
      ],
      "execution_count": null,
      "outputs": []
    },
    {
      "cell_type": "code",
      "metadata": {
        "colab": {
          "base_uri": "https://localhost:8080/"
        },
        "id": "7Ly3r-dCDLNL",
        "outputId": "3fd4720d-9f86-458b-9416-faefb5176b9a"
      },
      "source": [
        "import numpy as np\n",
        "import pandas as pd\n",
        "\n",
        "Master_news=news_book+news_game+news_health+news_politics+news_weather\n",
        "M_news=np.array(Master_news)\n",
        "lab=np.array(Labels)\n",
        "\n",
        "\n",
        "\n",
        "data_news = pd.DataFrame({'label':lab, 'news':M_news})\n",
        "\n",
        "\n",
        "print(data_news.head(20))\n"
      ],
      "execution_count": null,
      "outputs": [
        {
          "output_type": "stream",
          "text": [
            "    label                                               news\n",
            "0       1  Corona 19 has even caused a mental illness cal...\n",
            "1       1  Great Books (CEO Kim Kyung-taek), a children's...\n",
            "2       1  Poet Han Mun-seok has published his eleventh c...\n",
            "3       1  Poet Kim Yeon-deok, who started his work after...\n",
            "4       0  At game centers in movie theaters and shopping...\n",
            "5       0  Smilegate Megaport (CEO Jang In-ah) has added ...\n",
            "6       0  Crafton (CEO Chang-han Kim)'s PUBG Studio has ...\n",
            "7       0  Wemade announced on the 6th that it had signed...\n",
            "8       0  7일 신종 코로나바이러스 감염증(COVID-19·코로나19) 하루 신규 확진자가 6...\n",
            "9       0  Office worker Mr. A (39) was terrified when he...\n",
            "10      0  The government has decided to postpone the new...\n",
            "11      0  Presbyopia is a change in the eyes that loses ...\n",
            "12      0  Kim Young-chun, the leader of the Busan Mayor ...\n",
            "13      0  Kim Young-chun, candidate for Busan mayor of t...\n",
            "14      0  On the 7th, Busan Mayor Candidate Park Hyung-j...\n",
            "15      0  People's Strength candidate Oh Se-hoon is expe...\n",
            "16      0  Today, Friday, the 2nd, the temperature will b...\n",
            "17      0  On the 2nd, Friday, it will be mostly cloudy a...\n",
            "18      0  The 2nd, Friday, is mostly cloudy and cozy thr...\n",
            "19      0  On the first day of April, it will be cloudy i...\n"
          ],
          "name": "stdout"
        }
      ]
    },
    {
      "cell_type": "code",
      "metadata": {
        "id": "4Hy3i3Vn7xOA"
      },
      "source": [
        "import pandas as pd\n",
        "from sklearn.decomposition import NMF\n",
        "from sklearn.feature_extraction.text import TfidfVectorizer\n",
        " \n",
        "# use tfidf by removing tokens that don't appear in at least 50 documents\n",
        "vect = TfidfVectorizer(min_df=5, stop_words='english')\n",
        " \n",
        "# Fit and transform\n",
        "X = vect.fit_transform(data_news.news)"
      ],
      "execution_count": null,
      "outputs": []
    },
    {
      "cell_type": "code",
      "metadata": {
        "id": "AwIcS2y-FB42"
      },
      "source": [
        "# Create an NMF instance: model\n",
        "# the 10 components will be the topics\n",
        "model = NMF(n_components=5, random_state=5)\n",
        " \n",
        "# Fit the model to TF-IDF\n",
        "model.fit(X)\n",
        " \n",
        "# Transform the TF-IDF: nmf_features\n",
        "nmf_features = model.transform(X)"
      ],
      "execution_count": null,
      "outputs": []
    },
    {
      "cell_type": "code",
      "metadata": {
        "colab": {
          "base_uri": "https://localhost:8080/",
          "height": 215
        },
        "id": "PaECB_YHL969",
        "outputId": "cb411f3d-aa70-427a-ceb9-cfbd80f08a4e"
      },
      "source": [
        "# Create a DataFrame: components_df\n",
        "components_df = pd.DataFrame(model.components_, columns=vect.get_feature_names())\n",
        "components_df"
      ],
      "execution_count": null,
      "outputs": [
        {
          "output_type": "execute_result",
          "data": {
            "text/html": [
              "<div>\n",
              "<style scoped>\n",
              "    .dataframe tbody tr th:only-of-type {\n",
              "        vertical-align: middle;\n",
              "    }\n",
              "\n",
              "    .dataframe tbody tr th {\n",
              "        vertical-align: top;\n",
              "    }\n",
              "\n",
              "    .dataframe thead th {\n",
              "        text-align: right;\n",
              "    }\n",
              "</style>\n",
              "<table border=\"1\" class=\"dataframe\">\n",
              "  <thead>\n",
              "    <tr style=\"text-align: right;\">\n",
              "      <th></th>\n",
              "      <th>10</th>\n",
              "      <th>15</th>\n",
              "      <th>20</th>\n",
              "      <th>7th</th>\n",
              "      <th>announced</th>\n",
              "      <th>april</th>\n",
              "      <th>busan</th>\n",
              "      <th>caused</th>\n",
              "      <th>country</th>\n",
              "      <th>day</th>\n",
              "      <th>expected</th>\n",
              "      <th>good</th>\n",
              "      <th>high</th>\n",
              "      <th>including</th>\n",
              "      <th>island</th>\n",
              "      <th>kim</th>\n",
              "      <th>korea</th>\n",
              "      <th>normal</th>\n",
              "      <th>people</th>\n",
              "      <th>pm</th>\n",
              "      <th>receive</th>\n",
              "      <th>said</th>\n",
              "      <th>various</th>\n",
              "      <th>wave</th>\n",
              "      <th>west</th>\n",
              "      <th>young</th>\n",
              "    </tr>\n",
              "  </thead>\n",
              "  <tbody>\n",
              "    <tr>\n",
              "      <th>0</th>\n",
              "      <td>0.004150</td>\n",
              "      <td>0.053028</td>\n",
              "      <td>0.038022</td>\n",
              "      <td>0.085691</td>\n",
              "      <td>0.000000</td>\n",
              "      <td>0.114033</td>\n",
              "      <td>0.496494</td>\n",
              "      <td>0.000000</td>\n",
              "      <td>0.000000</td>\n",
              "      <td>0.107001</td>\n",
              "      <td>0.001736</td>\n",
              "      <td>0.000000</td>\n",
              "      <td>0.000000</td>\n",
              "      <td>0.000000</td>\n",
              "      <td>0.000000</td>\n",
              "      <td>1.333764</td>\n",
              "      <td>0.015039</td>\n",
              "      <td>0.000000</td>\n",
              "      <td>0.000000</td>\n",
              "      <td>0.177980</td>\n",
              "      <td>0.139274</td>\n",
              "      <td>0.274736</td>\n",
              "      <td>0.049679</td>\n",
              "      <td>0.000000</td>\n",
              "      <td>0.000000</td>\n",
              "      <td>0.599092</td>\n",
              "    </tr>\n",
              "    <tr>\n",
              "      <th>1</th>\n",
              "      <td>0.050860</td>\n",
              "      <td>0.247968</td>\n",
              "      <td>0.101869</td>\n",
              "      <td>0.000000</td>\n",
              "      <td>0.036699</td>\n",
              "      <td>0.038084</td>\n",
              "      <td>0.244899</td>\n",
              "      <td>0.050009</td>\n",
              "      <td>0.455186</td>\n",
              "      <td>0.287622</td>\n",
              "      <td>0.619444</td>\n",
              "      <td>0.139536</td>\n",
              "      <td>0.296012</td>\n",
              "      <td>0.000000</td>\n",
              "      <td>0.322467</td>\n",
              "      <td>0.000000</td>\n",
              "      <td>0.082148</td>\n",
              "      <td>0.189081</td>\n",
              "      <td>0.000000</td>\n",
              "      <td>0.076608</td>\n",
              "      <td>0.014239</td>\n",
              "      <td>0.000000</td>\n",
              "      <td>0.077841</td>\n",
              "      <td>0.239310</td>\n",
              "      <td>0.456764</td>\n",
              "      <td>0.000000</td>\n",
              "    </tr>\n",
              "    <tr>\n",
              "      <th>2</th>\n",
              "      <td>0.722726</td>\n",
              "      <td>0.017572</td>\n",
              "      <td>0.146623</td>\n",
              "      <td>0.083631</td>\n",
              "      <td>0.000000</td>\n",
              "      <td>0.143556</td>\n",
              "      <td>0.047195</td>\n",
              "      <td>0.000000</td>\n",
              "      <td>0.000000</td>\n",
              "      <td>0.118318</td>\n",
              "      <td>0.000000</td>\n",
              "      <td>0.024889</td>\n",
              "      <td>0.217330</td>\n",
              "      <td>0.612046</td>\n",
              "      <td>0.064735</td>\n",
              "      <td>0.000000</td>\n",
              "      <td>0.000000</td>\n",
              "      <td>0.000000</td>\n",
              "      <td>0.000000</td>\n",
              "      <td>0.000000</td>\n",
              "      <td>0.195794</td>\n",
              "      <td>0.131114</td>\n",
              "      <td>0.103816</td>\n",
              "      <td>0.000000</td>\n",
              "      <td>0.000000</td>\n",
              "      <td>0.000000</td>\n",
              "    </tr>\n",
              "    <tr>\n",
              "      <th>3</th>\n",
              "      <td>0.039685</td>\n",
              "      <td>0.000000</td>\n",
              "      <td>0.000000</td>\n",
              "      <td>0.000000</td>\n",
              "      <td>0.038254</td>\n",
              "      <td>0.058981</td>\n",
              "      <td>0.000000</td>\n",
              "      <td>0.578467</td>\n",
              "      <td>0.002228</td>\n",
              "      <td>0.158420</td>\n",
              "      <td>0.022297</td>\n",
              "      <td>0.272239</td>\n",
              "      <td>0.212587</td>\n",
              "      <td>0.000000</td>\n",
              "      <td>0.000000</td>\n",
              "      <td>0.000000</td>\n",
              "      <td>0.345103</td>\n",
              "      <td>0.104065</td>\n",
              "      <td>0.490718</td>\n",
              "      <td>0.000000</td>\n",
              "      <td>0.000000</td>\n",
              "      <td>0.435621</td>\n",
              "      <td>0.143223</td>\n",
              "      <td>0.000000</td>\n",
              "      <td>0.000000</td>\n",
              "      <td>0.180311</td>\n",
              "    </tr>\n",
              "    <tr>\n",
              "      <th>4</th>\n",
              "      <td>0.000000</td>\n",
              "      <td>0.000000</td>\n",
              "      <td>0.000000</td>\n",
              "      <td>0.616751</td>\n",
              "      <td>0.542158</td>\n",
              "      <td>0.000000</td>\n",
              "      <td>0.000000</td>\n",
              "      <td>0.000000</td>\n",
              "      <td>0.000000</td>\n",
              "      <td>0.002513</td>\n",
              "      <td>0.161409</td>\n",
              "      <td>0.000000</td>\n",
              "      <td>0.000000</td>\n",
              "      <td>0.158248</td>\n",
              "      <td>0.000000</td>\n",
              "      <td>0.000000</td>\n",
              "      <td>0.000000</td>\n",
              "      <td>0.000000</td>\n",
              "      <td>0.225302</td>\n",
              "      <td>0.121203</td>\n",
              "      <td>0.229177</td>\n",
              "      <td>0.623429</td>\n",
              "      <td>0.043065</td>\n",
              "      <td>0.164047</td>\n",
              "      <td>0.099488</td>\n",
              "      <td>0.000000</td>\n",
              "    </tr>\n",
              "  </tbody>\n",
              "</table>\n",
              "</div>"
            ],
            "text/plain": [
              "         10        15        20  ...      wave      west     young\n",
              "0  0.004150  0.053028  0.038022  ...  0.000000  0.000000  0.599092\n",
              "1  0.050860  0.247968  0.101869  ...  0.239310  0.456764  0.000000\n",
              "2  0.722726  0.017572  0.146623  ...  0.000000  0.000000  0.000000\n",
              "3  0.039685  0.000000  0.000000  ...  0.000000  0.000000  0.180311\n",
              "4  0.000000  0.000000  0.000000  ...  0.164047  0.099488  0.000000\n",
              "\n",
              "[5 rows x 26 columns]"
            ]
          },
          "metadata": {
            "tags": []
          },
          "execution_count": 41
        }
      ]
    },
    {
      "cell_type": "code",
      "metadata": {
        "colab": {
          "base_uri": "https://localhost:8080/"
        },
        "id": "P5-bkQt6GSKg",
        "outputId": "ac42c54d-4987-452f-a83b-8c5cb382f0b2"
      },
      "source": [
        "for topic in range(components_df.shape[0]):\n",
        "    tmp = components_df.iloc[topic]\n",
        "    print(f'For topic {topic+1} the words with the highest value are:')\n",
        "    print(tmp.nlargest(10))\n",
        "    print('\\n')"
      ],
      "execution_count": null,
      "outputs": [
        {
          "output_type": "stream",
          "text": [
            "For topic 1 the words with the highest value are:\n",
            "kim        1.333764\n",
            "young      0.599092\n",
            "busan      0.496494\n",
            "said       0.274736\n",
            "pm         0.177980\n",
            "receive    0.139274\n",
            "april      0.114033\n",
            "day        0.107001\n",
            "7th        0.085691\n",
            "15         0.053028\n",
            "Name: 0, dtype: float64\n",
            "\n",
            "\n",
            "For topic 2 the words with the highest value are:\n",
            "expected    0.619444\n",
            "west        0.456764\n",
            "country     0.455186\n",
            "island      0.322467\n",
            "high        0.296012\n",
            "day         0.287622\n",
            "15          0.247968\n",
            "busan       0.244899\n",
            "wave        0.239310\n",
            "normal      0.189081\n",
            "Name: 1, dtype: float64\n",
            "\n",
            "\n",
            "For topic 3 the words with the highest value are:\n",
            "10           0.722726\n",
            "including    0.612046\n",
            "high         0.217330\n",
            "receive      0.195794\n",
            "20           0.146623\n",
            "april        0.143556\n",
            "said         0.131114\n",
            "day          0.118318\n",
            "various      0.103816\n",
            "7th          0.083631\n",
            "Name: 2, dtype: float64\n",
            "\n",
            "\n",
            "For topic 4 the words with the highest value are:\n",
            "caused     0.578467\n",
            "people     0.490718\n",
            "said       0.435621\n",
            "korea      0.345103\n",
            "good       0.272239\n",
            "high       0.212587\n",
            "young      0.180311\n",
            "day        0.158420\n",
            "various    0.143223\n",
            "normal     0.104065\n",
            "Name: 3, dtype: float64\n",
            "\n",
            "\n",
            "For topic 5 the words with the highest value are:\n",
            "said         0.623429\n",
            "7th          0.616751\n",
            "announced    0.542158\n",
            "receive      0.229177\n",
            "people       0.225302\n",
            "wave         0.164047\n",
            "expected     0.161409\n",
            "including    0.158248\n",
            "pm           0.121203\n",
            "west         0.099488\n",
            "Name: 4, dtype: float64\n",
            "\n",
            "\n"
          ],
          "name": "stdout"
        }
      ]
    },
    {
      "cell_type": "code",
      "metadata": {
        "colab": {
          "base_uri": "https://localhost:8080/",
          "height": 120
        },
        "id": "lQtKzWpBGfVH",
        "outputId": "2b8fd1a3-b1cd-4606-f5f3-cf148401b1f4"
      },
      "source": [
        "my_document = data_news.news[10]\n",
        "my_document\n"
      ],
      "execution_count": null,
      "outputs": [
        {
          "output_type": "execute_result",
          "data": {
            "application/vnd.google.colaboratory.intrinsic+json": {
              "type": "string"
            },
            "text/plain": [
              "'The government has decided to postpone the new coronavirus infection (COVID-19/COVID-19) vaccination scheduled for the 8th of this month for workers in special education and childcare, health teachers, nurses at daycare centers, and workers in facilities for the disabled. Vaccinations for children under the age of 60, which are already in progress, are also temporarily suspended. It is interpreted that the British AstraZeneca vaccine decided to postpone the vaccination until the review was completed at home and abroad as controversy continued over the problem of thrombus formation after inoculation.\\n\\nThe COVID-19 Vaccination Response Promotion Team held an expert advisory meeting on the 7th and announced that the decision was made. \"As the European Medicines Agency (EMA) General Assembly is reviewing the link between the vaccines developed by AstraZeneca and Oxford University in the UK and the occurrence of some specific thrombosis, we have decided to confirm the results and push forward,\" the committee said.\\n\\nAccordingly, special education and childcare workers, public health teachers, nurses at daycare centers, and facilities for the disabled who were scheduled to start new vaccinations this week will postpone the start of vaccination, and those under the age of 60 who are already vaccinated will be vaccinated temporarily. withhold\\n\\nThe promotion team closely monitors the occurrence of similar cases at home and abroad, and provides information to the public that has been reviewed with experts from related societies so that they can recognize and receive treatment for adverse reactions early after vaccination, including TV subtitles, card news, posters, and videos. We plan to promote it.\\n\\nJung Eun-kyung, head of the promotion group, said on the same day, \"This measure is a preemptive measure considering the safety of those vaccinated against COVID-19.\\n\\nInitially, the government decided to shorten the inoculation period for some of those eligible to be vaccinated in the second quarter in order to quickly increase the number of people vaccinated against COVID-19. However, the decision seems to have been made because the causal relationship between the AstraZeneca vaccine and blood clots has not been clearly established. \"It is becoming increasingly difficult to say that there is no causal link between the AstraZeneca vaccine and the very rare thrombosis associated with low platelet levels,\" the Italian daily Il Mesazero said in the words of Marco Cavaleri, head of EMA\\'s vaccine strategy. \"He said.\\n\\nOn the other hand, AFP news agency announced that the EMA will announce the evaluation results on the relationship between the AstraZeneca vaccine and blood clots through a briefing on the 7th at 0 PM Korean time.'"
            ]
          },
          "metadata": {
            "tags": []
          },
          "execution_count": 44
        }
      ]
    },
    {
      "cell_type": "code",
      "metadata": {
        "colab": {
          "base_uri": "https://localhost:8080/"
        },
        "id": "YEzRZU93G1JW",
        "outputId": "b2eb651e-571c-4b49-d928-fb63764645d9"
      },
      "source": [
        "pd.DataFrame(nmf_features).loc[10]\n"
      ],
      "execution_count": null,
      "outputs": [
        {
          "output_type": "execute_result",
          "data": {
            "text/plain": [
              "0    0.019256\n",
              "1    0.000000\n",
              "2    0.090906\n",
              "3    0.069658\n",
              "4    0.778891\n",
              "Name: 10, dtype: float64"
            ]
          },
          "metadata": {
            "tags": []
          },
          "execution_count": 49
        }
      ]
    },
    {
      "cell_type": "code",
      "metadata": {
        "colab": {
          "base_uri": "https://localhost:8080/"
        },
        "id": "KHAsrobxHIr3",
        "outputId": "2c51dd41-c796-44d0-9e15-e5ea39365720"
      },
      "source": [
        "print(\"Maximum Index\")\n",
        "print(pd.DataFrame(nmf_features).loc[10].idxmax())\n"
      ],
      "execution_count": null,
      "outputs": [
        {
          "output_type": "stream",
          "text": [
            "Maximum Index\n",
            "4\n"
          ],
          "name": "stdout"
        }
      ]
    },
    {
      "cell_type": "code",
      "metadata": {
        "colab": {
          "base_uri": "https://localhost:8080/"
        },
        "id": "opirz8AYInDL",
        "outputId": "a53760ce-9c71-422c-9dd2-9c6d84413c73"
      },
      "source": [
        "pd.DataFrame(nmf_features).idxmax()"
      ],
      "execution_count": null,
      "outputs": [
        {
          "output_type": "execute_result",
          "data": {
            "text/plain": [
              "0    12\n",
              "1    16\n",
              "2     4\n",
              "3    11\n",
              "4    10\n",
              "dtype: int64"
            ]
          },
          "metadata": {
            "tags": []
          },
          "execution_count": 48
        }
      ]
    },
    {
      "cell_type": "code",
      "metadata": {
        "colab": {
          "base_uri": "https://localhost:8080/",
          "height": 77
        },
        "id": "GXFBPQ5dIwNp",
        "outputId": "c006b9b7-c1f8-49de-cc11-e475c334a6ee"
      },
      "source": [
        "my_news = \"\"\"Corona 19 has even caused a mental illness\"\"\"\n",
        " \n",
        "# Transform the TF-IDF\n",
        "X = vect.transform([my_news])\n",
        "# Transform the TF-IDF: nmf_features\n",
        "nmf_features = model.transform(X)\n",
        " \n",
        "pd.DataFrame(nmf_features)"
      ],
      "execution_count": null,
      "outputs": [
        {
          "output_type": "execute_result",
          "data": {
            "text/html": [
              "<div>\n",
              "<style scoped>\n",
              "    .dataframe tbody tr th:only-of-type {\n",
              "        vertical-align: middle;\n",
              "    }\n",
              "\n",
              "    .dataframe tbody tr th {\n",
              "        vertical-align: top;\n",
              "    }\n",
              "\n",
              "    .dataframe thead th {\n",
              "        text-align: right;\n",
              "    }\n",
              "</style>\n",
              "<table border=\"1\" class=\"dataframe\">\n",
              "  <thead>\n",
              "    <tr style=\"text-align: right;\">\n",
              "      <th></th>\n",
              "      <th>0</th>\n",
              "      <th>1</th>\n",
              "      <th>2</th>\n",
              "      <th>3</th>\n",
              "      <th>4</th>\n",
              "    </tr>\n",
              "  </thead>\n",
              "  <tbody>\n",
              "    <tr>\n",
              "      <th>0</th>\n",
              "      <td>0.0</td>\n",
              "      <td>0.0</td>\n",
              "      <td>0.0</td>\n",
              "      <td>0.526086</td>\n",
              "      <td>0.0</td>\n",
              "    </tr>\n",
              "  </tbody>\n",
              "</table>\n",
              "</div>"
            ],
            "text/plain": [
              "     0    1    2         3    4\n",
              "0  0.0  0.0  0.0  0.526086  0.0"
            ]
          },
          "metadata": {
            "tags": []
          },
          "execution_count": 53
        }
      ]
    },
    {
      "cell_type": "code",
      "metadata": {
        "colab": {
          "base_uri": "https://localhost:8080/"
        },
        "id": "umMgTfa-PwTa",
        "outputId": "6e03bdef-b58a-456b-8bfc-0b61e9a02e17"
      },
      "source": [
        "pd.DataFrame(nmf_features).idxmax(axis=1)"
      ],
      "execution_count": null,
      "outputs": [
        {
          "output_type": "execute_result",
          "data": {
            "text/plain": [
              "0    3\n",
              "dtype: int64"
            ]
          },
          "metadata": {
            "tags": []
          },
          "execution_count": 54
        }
      ]
    },
    {
      "cell_type": "markdown",
      "metadata": {
        "id": "nYjWozlbRVWY"
      },
      "source": [
        "**RNN**"
      ]
    },
    {
      "cell_type": "code",
      "metadata": {
        "id": "GDcieLbZRU9N"
      },
      "source": [
        "import tensorflow_datasets as tfds\n",
        "import tensorflow as tf\n",
        "tfds.disable_progress_bar()\n",
        "train_dataset = tf.data.Dataset.from_tensor_slices((data_news.news, data_news.label))\n"
      ],
      "execution_count": null,
      "outputs": []
    },
    {
      "cell_type": "code",
      "metadata": {
        "id": "6GKNGyY5RsP_"
      },
      "source": [
        "import matplotlib.pyplot as plt\n",
        "\n",
        "\n",
        "def plot_graphs(history, metric):\n",
        "  plt.plot(history.history[metric])\n",
        "  plt.plot(history.history['val_'+metric], '')\n",
        "  plt.xlabel(\"Epochs\")\n",
        "  plt.ylabel(metric)\n",
        "  plt.legend([metric, 'val_'+metric])"
      ],
      "execution_count": null,
      "outputs": []
    },
    {
      "cell_type": "code",
      "metadata": {
        "colab": {
          "base_uri": "https://localhost:8080/"
        },
        "id": "sRdkRumXR1rS",
        "outputId": "824117f5-0dbd-4ac3-f7c1-fc4ef97fa07f"
      },
      "source": [
        "for example, label in train_dataset.take(1):\n",
        "  print('text: ', example.numpy())\n",
        "  print('label: ', label.numpy())"
      ],
      "execution_count": null,
      "outputs": [
        {
          "output_type": "stream",
          "text": [
            "text:  b'Corona 19 has even caused a mental illness called \\'corona blue\\'. The heartache caused by distance, isolation, and lack of communication became a concern that no one could easily come forward and comfort.\\nI long for something that can warmly comfort my weary heart.\\nThis book \\'Painting Meditation\\' is an art essay that I try to think through pictures in everyday life. It is also an attempt to revisit art from a more diverse and expanded perspective.\\nThe way to understand and become familiar with painting was approached as if \\'meditating\\'.\\nNormal meditation begins with closing your eyes and immersing yourself in quiet contemplation. You can see the picture with your eyes closed.\\nBecause the heart also has eyes. is the heart.\\nAuthor Yunseop Kim said, \\xe2\\x80\\x9cThis book \\xe2\\x80\\x98Picture Meditation\\xe2\\x80\\x99 is also one of the practical ways to guide you to a better and more interesting life as art.\\xe2\\x80\\x9d \\xe2\\x80\\x9c\\xe2\\x80\\x98What is the hidden value of art?\\xe2\\x80\\x99 This book started from the questions, \\'How can I easily understand art with my own thoughts?\\'\" he said.\\n\\xe2\\x80\\x9cYou don\\xe2\\x80\\x99t have to try hard to talk to the painting. If you are patient for a while, the picture will talk to you like a lie.\\nWhat was your life like these days, what kind of wish you have today, what worries you... . It\\'s a comforting comfort, like an old friend put a hand on his shoulder.\\nRim also wakes up with me at that moment. It helps to start or end the day on a positive note.\\xe2\\x80\\x9d\\n\\'Picture Meditation\\', which contains the works of 22 domestic contemporary artists, starts with \\'opening the door of thought in the most comfortable position\\' and provides a generous empty space to comfort the mind.\\nThey are mostly painters in their 40s and 60s. I recommend it to those who want to be comforted in a little bit through pictures that evoke various emotions.'\n",
            "label:  1\n"
          ],
          "name": "stdout"
        }
      ]
    },
    {
      "cell_type": "code",
      "metadata": {
        "id": "Pp0loDhSSGYu"
      },
      "source": [
        "BUFFER_SIZE = 10000\n",
        "BATCH_SIZE = 64"
      ],
      "execution_count": null,
      "outputs": []
    },
    {
      "cell_type": "code",
      "metadata": {
        "id": "J8HKm-jASG51"
      },
      "source": [
        "train_dataset = train_dataset.shuffle(BUFFER_SIZE).batch(BATCH_SIZE).prefetch(tf.data.AUTOTUNE)\n",
        "test_dataset =train_dataset.batch(BATCH_SIZE).prefetch(tf.data.AUTOTUNE)"
      ],
      "execution_count": null,
      "outputs": []
    },
    {
      "cell_type": "code",
      "metadata": {
        "colab": {
          "base_uri": "https://localhost:8080/"
        },
        "id": "Ow4f4g7LSI3u",
        "outputId": "07299aab-764e-4ff7-d29a-b2553b321320"
      },
      "source": [
        "for example, label in train_dataset.take(1):\n",
        "  print('texts: ', example.numpy()[:3])\n",
        "  print()\n",
        "  print('labels: ', label.numpy()[:3])"
      ],
      "execution_count": null,
      "outputs": [
        {
          "output_type": "stream",
          "text": [
            "texts:  [b'The 2nd, Friday, is mostly cloudy and cozy throughout the country. As yellow dust and fine dust disappear, the air quality is also good.\\nThe Korea Meteorological Administration predicted that the whole country would be on the edge of high pressure moving eastward in the East Sea.\\nIt is expected that raindrops will fall in the western regions due to the influence of the pressure valley moving eastward near Shanghai, China.\\nIn the West Sea 5 provinces, it is expected that rain of around 5 mm will fall from 6 pm to 12 pm on that day.\\nThe rain is expected to spread across the country on the 3rd weekend.\\nThe lowest temperature in the morning is expected to be 5 to 13 degrees, and the highest temperature during the day is expected to be 14 to 23 degrees.\\nThe daytime temperature will rise by more than 20 degrees in most parts of the country, but Yeongdong, Gangwon and eastern parts of North Gyeongsang Province are cool around 15 degrees Celsius as the east wind blows in.\\nThe Korea Meteorological Administration emphasized, \"Inland, the temperature difference between day and night will reach around 15 degrees.\"\\nDue to the smooth air diffusion, the concentration of fine dust and ultrafine dust is expected to show \\'good\\' to \\'normal\\' levels in all areas.\\nThe air is very dry in Yeongdong, Gangwon, the east coast of Gyeongsang Province, and some inland areas in Gyeongsangbuk-do, where a dry warning is in effect.\\nThe wave of the sea is expected to rise at a height of 0.5 to 3 m in the waters off the West Sea, in the South and East Seas, and at a maximum of 4 m in the far seas of the West, South and East Seas.\\nAll over the southern and southern seas of the East Sea, winds blow strongly at 35 to 60 km/h, and waves can rise as high as 1.5 to 4 m.\\nOn the coast of Gyeongsang Province, the southern coast of Jeollanam-do, and Jeju Island, there are places where high waves caused by swells exceed coastal roads, tidal rocks, and breakwaters.'\n",
            " b'Presbyopia is a change in the eyes that loses near vision due to a decrease in the elasticity of the lens. Symptoms usually start to feel in the early 40s, and the symptoms get progressively worse until the 60s.\\n\\nIt is unavoidable, but people want to face presbyopia even a little bit slowly. Is there any way to cure presbyopia?\\n\\nBright lighting, reading large text Helps with early symptoms of presbyopia\\nBecause presbyopia is a natural phenomenon of aging, it is impossible to treat it in a way that eliminates the root cause like other diseases. It should be borne in mind that the goal of presbyopia treatment is to reduce the discomfort caused by presbyopia.\\n\\nThe treatment method to minimize the symptoms of presbyopia is the use of bright lighting and viewing of large letters. The Korea Centers for Disease Control and Prevention (KCDC) said, \"If more ambient light is turned on, the pupil narrows and the depth of focus increases, so it may help early symptoms of presbyopia.\" Also, \"It is good to read a book in large print or to enlarge the text and pictures on the computer screen or smartphone.\"\\n\\nAnother treatment for presbyopia is the use of a magnifying glass. The use of magnifying glasses for near vision correction is the most basic treatment for presbyopia. For presbyopia correction, glasses for distance and near can be used separately, or bifocal or progressive multifocal lens glasses can be worn as needed.\\n\\nHowever, it should be remembered that presbyopia and reduced vision are two different issues. Since there is a possibility that there may be other causes of vision loss other than presbyopia, it is necessary to see an ophthalmologist.'\n",
            " b\"Poet Han Mun-seok has published his eleventh collection of poems, \\xe2\\x80\\x98Dawn Beach\\xe2\\x80\\x99\\nThis collection of 92 poems shows that the life of a poet who has reached maturity is being reborn through the form of poetry.\\nPoet Han Moon-seok has published poetry based on lyricism. His poetic world, which depicts the regrets and stories of his past life as concrete ideas through poetic objects, has shown the power to settle at the end point of restoration and healing.\\nIn addition to this, this collection of poems is being praised for enhancing the lyricism and reverberation of the poet's thoughts as they communicate with faith.\\nCritic and poet Choi Kwang-im said, \\xe2\\x80\\x9cThis collection of poems shows that the poet\\xe2\\x80\\x99s world of work, who wants to communicate with the times, adapt to nature, and accompany them, is getting stronger and expanding. I hope it becomes a storehouse of things.\\xe2\\x80\\x9d\\nPoet Han Moon-seok, who is building a land of sharing and hope while facing the pain of living in an era of disconnection, has published nine collections of poetry and one collection of poems, including 'In the Name of Love'.\\nHe was awarded the 6th Daejeon Impression Award, the 2nd Poetry and Imagination Award, the 15th Han Sung-ki Literary Award, and the 24th Daejeon Metropolitan City Culture Award (Literary Division).\\nHe is currently participating in about 10 literary organizations, g) a director of the Korean Contemporary Poets Association, and serves as the chairman of the Han Sung-ki Literary Award Steering Committee.\"]\n",
            "\n",
            "labels:  [0 0 1]\n"
          ],
          "name": "stdout"
        }
      ]
    },
    {
      "cell_type": "code",
      "metadata": {
        "id": "6yYsrL5aSVUp"
      },
      "source": [
        "VOCAB_SIZE = 1000\n",
        "encoder = tf.keras.layers.experimental.preprocessing.TextVectorization(\n",
        "    max_tokens=VOCAB_SIZE)\n",
        "encoder.adapt(train_dataset.map(lambda text, label: text))"
      ],
      "execution_count": null,
      "outputs": []
    },
    {
      "cell_type": "code",
      "metadata": {
        "colab": {
          "base_uri": "https://localhost:8080/"
        },
        "id": "BULtC3DXSYFK",
        "outputId": "9a8d3b92-ef15-4fd7-c868-459dadc7cacf"
      },
      "source": [
        "vocab = np.array(encoder.get_vocabulary())\n",
        "vocab[:20]"
      ],
      "execution_count": null,
      "outputs": [
        {
          "output_type": "execute_result",
          "data": {
            "text/plain": [
              "array(['', '[UNK]', 'the', 'of', 'and', 'to', 'in', 'a', 'is', 'it',\n",
              "       'will', 'that', 'be', 'on', 'as', 'for', 'degrees', 'with', 'are',\n",
              "       'can'], dtype='<U14')"
            ]
          },
          "metadata": {
            "tags": []
          },
          "execution_count": 146
        }
      ]
    },
    {
      "cell_type": "code",
      "metadata": {
        "colab": {
          "base_uri": "https://localhost:8080/"
        },
        "id": "D5v4EbUUUHFz",
        "outputId": "b985f4ad-4bce-4ebd-effe-c4a8829ef17d"
      },
      "source": [
        "encoded_example = encoder(example)[:3].numpy()\n",
        "encoded_example"
      ],
      "execution_count": null,
      "outputs": [
        {
          "output_type": "execute_result",
          "data": {
            "text/plain": [
              "array([[  2, 284, 381, ...,   0,   0,   0],\n",
              "       [ 43,   8,   7, ...,   0,   0,   0],\n",
              "       [ 66, 195,   1, ...,   0,   0,   0]])"
            ]
          },
          "metadata": {
            "tags": []
          },
          "execution_count": 147
        }
      ]
    },
    {
      "cell_type": "code",
      "metadata": {
        "colab": {
          "base_uri": "https://localhost:8080/"
        },
        "id": "hdPcHLPZUhrw",
        "outputId": "4822ffec-8711-46e9-faf1-70fe959491b3"
      },
      "source": [
        "for n in range(3):\n",
        "  print(\"Original: \", example[n].numpy())\n",
        "  print(\"Round-trip: \", \" \".join(vocab[encoded_example[n]]))\n",
        "  print()"
      ],
      "execution_count": null,
      "outputs": [
        {
          "output_type": "stream",
          "text": [
            "Original:  b'The 2nd, Friday, is mostly cloudy and cozy throughout the country. As yellow dust and fine dust disappear, the air quality is also good.\\nThe Korea Meteorological Administration predicted that the whole country would be on the edge of high pressure moving eastward in the East Sea.\\nIt is expected that raindrops will fall in the western regions due to the influence of the pressure valley moving eastward near Shanghai, China.\\nIn the West Sea 5 provinces, it is expected that rain of around 5 mm will fall from 6 pm to 12 pm on that day.\\nThe rain is expected to spread across the country on the 3rd weekend.\\nThe lowest temperature in the morning is expected to be 5 to 13 degrees, and the highest temperature during the day is expected to be 14 to 23 degrees.\\nThe daytime temperature will rise by more than 20 degrees in most parts of the country, but Yeongdong, Gangwon and eastern parts of North Gyeongsang Province are cool around 15 degrees Celsius as the east wind blows in.\\nThe Korea Meteorological Administration emphasized, \"Inland, the temperature difference between day and night will reach around 15 degrees.\"\\nDue to the smooth air diffusion, the concentration of fine dust and ultrafine dust is expected to show \\'good\\' to \\'normal\\' levels in all areas.\\nThe air is very dry in Yeongdong, Gangwon, the east coast of Gyeongsang Province, and some inland areas in Gyeongsangbuk-do, where a dry warning is in effect.\\nThe wave of the sea is expected to rise at a height of 0.5 to 3 m in the waters off the West Sea, in the South and East Seas, and at a maximum of 4 m in the far seas of the West, South and East Seas.\\nAll over the southern and southern seas of the East Sea, winds blow strongly at 35 to 60 km/h, and waves can rise as high as 1.5 to 4 m.\\nOn the coast of Gyeongsang Province, the southern coast of Jeollanam-do, and Jeju Island, there are places where high waves caused by swells exceed coastal roads, tidal rocks, and breakwaters.'\n",
            "Round-trip:  the 2nd friday is mostly cloudy and [UNK] throughout the country as yellow dust and fine dust [UNK] the air [UNK] is also good the korea meteorological administration predicted that the whole country [UNK] be on the [UNK] of high pressure moving eastward in the east sea it is expected that raindrops will fall in the [UNK] regions due to the influence of the pressure [UNK] moving eastward near [UNK] china in the west sea 5 provinces it is expected that rain of around 5 mm will fall from 6 pm to 12 pm on that day the rain is expected to spread across the country on the [UNK] weekend the lowest temperature in the morning is expected to be 5 to [UNK] degrees and the highest temperature during the day is expected to be 14 to 23 degrees the daytime temperature will rise by more than 20 degrees in most parts of the country but yeongdong gangwon and eastern parts of north gyeongsang province are cool around 15 degrees celsius as the east wind blows in the korea meteorological administration [UNK] inland the temperature difference between day and night will [UNK] around 15 degrees due to the smooth air diffusion the concentration of fine dust and ultrafine dust is expected to show good to normal levels in all areas the air is very dry in yeongdong gangwon the east coast of gyeongsang province and some inland areas in [UNK] where a dry [UNK] is in effect the wave of the sea is expected to rise at a height of 05 to 3 m in the [UNK] off the west sea in the south and east seas and at a maximum of 4 m in the far seas of the west south and east seas all over the southern and southern seas of the east sea winds blow strongly at 35 to 60 [UNK] and waves can rise as high as 15 to 4 m on the coast of gyeongsang province the southern coast of jeollanamdo and jeju island there are places where high waves caused by swells exceed coastal roads tidal rocks and [UNK]                                                                                                                                                                                                                                 \n",
            "\n",
            "Original:  b'Presbyopia is a change in the eyes that loses near vision due to a decrease in the elasticity of the lens. Symptoms usually start to feel in the early 40s, and the symptoms get progressively worse until the 60s.\\n\\nIt is unavoidable, but people want to face presbyopia even a little bit slowly. Is there any way to cure presbyopia?\\n\\nBright lighting, reading large text Helps with early symptoms of presbyopia\\nBecause presbyopia is a natural phenomenon of aging, it is impossible to treat it in a way that eliminates the root cause like other diseases. It should be borne in mind that the goal of presbyopia treatment is to reduce the discomfort caused by presbyopia.\\n\\nThe treatment method to minimize the symptoms of presbyopia is the use of bright lighting and viewing of large letters. The Korea Centers for Disease Control and Prevention (KCDC) said, \"If more ambient light is turned on, the pupil narrows and the depth of focus increases, so it may help early symptoms of presbyopia.\" Also, \"It is good to read a book in large print or to enlarge the text and pictures on the computer screen or smartphone.\"\\n\\nAnother treatment for presbyopia is the use of a magnifying glass. The use of magnifying glasses for near vision correction is the most basic treatment for presbyopia. For presbyopia correction, glasses for distance and near can be used separately, or bifocal or progressive multifocal lens glasses can be worn as needed.\\n\\nHowever, it should be remembered that presbyopia and reduced vision are two different issues. Since there is a possibility that there may be other causes of vision loss other than presbyopia, it is necessary to see an ophthalmologist.'\n",
            "Round-trip:  presbyopia is a change in the eyes that [UNK] near vision due to a [UNK] in the [UNK] of the lens symptoms usually start to [UNK] in the early 40s and the symptoms get [UNK] [UNK] until the 60s it is [UNK] but people want to face presbyopia even a little bit [UNK] is there any way to [UNK] presbyopia bright lighting [UNK] large text helps with early symptoms of presbyopia because presbyopia is a [UNK] [UNK] of [UNK] it is [UNK] to [UNK] it in a way that [UNK] the [UNK] cause like other diseases it should be [UNK] in mind that the [UNK] of presbyopia treatment is to [UNK] the [UNK] caused by presbyopia the treatment [UNK] to [UNK] the symptoms of presbyopia is the use of bright lighting and [UNK] of large [UNK] the korea centers for disease [UNK] and [UNK] [UNK] said if more [UNK] light is [UNK] on the [UNK] [UNK] and the [UNK] of [UNK] increases so it may [UNK] early symptoms of presbyopia also it is good to [UNK] a book in large [UNK] or to [UNK] the text and pictures on the [UNK] screen or [UNK] another treatment for presbyopia is the use of a magnifying glass the use of magnifying glasses for near vision correction is the most [UNK] treatment for presbyopia for presbyopia correction glasses for distance and near can be used [UNK] or [UNK] or [UNK] [UNK] lens glasses can be [UNK] as [UNK] however it should be [UNK] that presbyopia and [UNK] vision are two different [UNK] since there is a [UNK] that there may be other causes of vision [UNK] other than presbyopia it is necessary to see an [UNK]                                                                                                                                                                                                                                                                                                         \n",
            "\n",
            "Original:  b\"Poet Han Mun-seok has published his eleventh collection of poems, \\xe2\\x80\\x98Dawn Beach\\xe2\\x80\\x99\\nThis collection of 92 poems shows that the life of a poet who has reached maturity is being reborn through the form of poetry.\\nPoet Han Moon-seok has published poetry based on lyricism. His poetic world, which depicts the regrets and stories of his past life as concrete ideas through poetic objects, has shown the power to settle at the end point of restoration and healing.\\nIn addition to this, this collection of poems is being praised for enhancing the lyricism and reverberation of the poet's thoughts as they communicate with faith.\\nCritic and poet Choi Kwang-im said, \\xe2\\x80\\x9cThis collection of poems shows that the poet\\xe2\\x80\\x99s world of work, who wants to communicate with the times, adapt to nature, and accompany them, is getting stronger and expanding. I hope it becomes a storehouse of things.\\xe2\\x80\\x9d\\nPoet Han Moon-seok, who is building a land of sharing and hope while facing the pain of living in an era of disconnection, has published nine collections of poetry and one collection of poems, including 'In the Name of Love'.\\nHe was awarded the 6th Daejeon Impression Award, the 2nd Poetry and Imagination Award, the 15th Han Sung-ki Literary Award, and the 24th Daejeon Metropolitan City Culture Award (Literary Division).\\nHe is currently participating in about 10 literary organizations, g) a director of the Korean Contemporary Poets Association, and serves as the chairman of the Han Sung-ki Literary Award Steering Committee.\"\n",
            "Round-trip:  poet han [UNK] has published his [UNK] collection of poems [UNK] [UNK] this collection of [UNK] poems shows that the life of a poet who has [UNK] [UNK] is being [UNK] through the [UNK] of poetry poet han moonseok has published poetry based on lyricism his poetic world which [UNK] the [UNK] and stories of his [UNK] life as [UNK] [UNK] through poetic [UNK] has [UNK] the power to [UNK] at the end [UNK] of [UNK] and [UNK] in addition to this this collection of poems is being [UNK] for [UNK] the lyricism and [UNK] of the poets thoughts as they communicate with [UNK] [UNK] and poet [UNK] [UNK] said “this collection of poems shows that the [UNK] world of work who [UNK] to communicate with the times [UNK] to nature and [UNK] them is getting [UNK] and [UNK] i hope it [UNK] a [UNK] of [UNK] poet han moonseok who is [UNK] a [UNK] of [UNK] and hope while [UNK] the pain of [UNK] in an [UNK] of [UNK] has published [UNK] [UNK] of poetry and one collection of poems including in the name of love he was awarded the 6th daejeon [UNK] award the 2nd poetry and [UNK] award the [UNK] han sungki literary award and the [UNK] daejeon [UNK] city [UNK] award literary [UNK] he is currently [UNK] in about 10 literary [UNK] [UNK] a [UNK] of the korean contemporary poets [UNK] and [UNK] as the [UNK] of the han sungki literary award [UNK] committee                                                                                                                                                                                                                                                                                                                                            \n",
            "\n"
          ],
          "name": "stdout"
        }
      ]
    },
    {
      "cell_type": "code",
      "metadata": {
        "id": "xRefHJqeS5mh"
      },
      "source": [
        "model = tf.keras.Sequential([\n",
        "    encoder,\n",
        "    tf.keras.layers.Embedding(\n",
        "        input_dim=len(encoder.get_vocabulary()),\n",
        "        output_dim=64,\n",
        "        # Use masking to handle the variable sequence lengths\n",
        "        mask_zero=True),\n",
        "    tf.keras.layers.Bidirectional(tf.keras.layers.LSTM(64)),\n",
        "    tf.keras.layers.Dense(64, activation='relu'),\n",
        "    tf.keras.layers.Dense(1)\n",
        "])"
      ],
      "execution_count": null,
      "outputs": []
    },
    {
      "cell_type": "code",
      "metadata": {
        "colab": {
          "base_uri": "https://localhost:8080/"
        },
        "id": "iO-qs-D3WQZn",
        "outputId": "121114b3-d2c8-4c43-bea4-117399858dc2"
      },
      "source": [
        "len(encoder.get_vocabulary())"
      ],
      "execution_count": null,
      "outputs": [
        {
          "output_type": "execute_result",
          "data": {
            "text/plain": [
              "1000"
            ]
          },
          "metadata": {
            "tags": []
          },
          "execution_count": 126
        }
      ]
    },
    {
      "cell_type": "code",
      "metadata": {
        "colab": {
          "base_uri": "https://localhost:8080/"
        },
        "id": "SluQ5mCzTcJU",
        "outputId": "48633f39-f9ef-4270-f529-a387818b0480"
      },
      "source": [
        "# predict on a sample text without padding.\n",
        "\n",
        "sample_text = ('The movie was cool. The animation and the graphics '\n",
        "               'were out of this world. I would recommend this movie.')\n",
        "predictions = model.predict(np.array([sample_text]))\n",
        "print(predictions[0])"
      ],
      "execution_count": null,
      "outputs": [
        {
          "output_type": "stream",
          "text": [
            "[0.01347333]\n"
          ],
          "name": "stdout"
        }
      ]
    },
    {
      "cell_type": "code",
      "metadata": {
        "id": "xpFI8nO7TnBG"
      },
      "source": [
        "model.compile(loss=tf.keras.losses.BinaryCrossentropy(from_logits=True),\n",
        "              optimizer=tf.keras.optimizers.Adam(1e-4),\n",
        "              metrics=['accuracy'])"
      ],
      "execution_count": null,
      "outputs": []
    },
    {
      "cell_type": "code",
      "metadata": {
        "colab": {
          "base_uri": "https://localhost:8080/"
        },
        "id": "cH-0m2HUTp2k",
        "outputId": "fef0ee90-d52c-4524-95d7-9827203a5c16"
      },
      "source": [
        "history = model.fit(train_dataset, epochs=3,\n",
        "                    validation_data=train_dataset,\n",
        "                    validation_steps=30)"
      ],
      "execution_count": null,
      "outputs": [
        {
          "output_type": "stream",
          "text": [
            "Epoch 1/3\n",
            "1/1 [==============================] - ETA: 0s - loss: 0.6960 - accuracy: 0.8000WARNING:tensorflow:Your input ran out of data; interrupting training. Make sure that your dataset or generator can generate at least `steps_per_epoch * epochs` batches (in this case, 30 batches). You may need to use the repeat() function when building your dataset.\n",
            "1/1 [==============================] - 11s 11s/step - loss: 0.6960 - accuracy: 0.8000 - val_loss: 0.6952 - val_accuracy: 0.8000\n",
            "Epoch 2/3\n",
            "1/1 [==============================] - 1s 830ms/step - loss: 0.6952 - accuracy: 0.8000\n",
            "Epoch 3/3\n",
            "1/1 [==============================] - 1s 814ms/step - loss: 0.6943 - accuracy: 0.8000\n"
          ],
          "name": "stdout"
        }
      ]
    },
    {
      "cell_type": "code",
      "metadata": {
        "colab": {
          "base_uri": "https://localhost:8080/"
        },
        "id": "FFd9GBVzXS6W",
        "outputId": "355717d4-12d4-4591-e2ce-e686e4364e3c"
      },
      "source": [
        "test_loss, test_acc = model.evaluate(train_dataset)\n",
        "\n",
        "print('Test Loss:', test_loss)\n",
        "print('Test Accuracy:', test_acc)"
      ],
      "execution_count": null,
      "outputs": [
        {
          "output_type": "stream",
          "text": [
            "1/1 [==============================] - 0s 149ms/step - loss: 0.6935 - accuracy: 0.8000\n",
            "Test Loss: 0.6934951543807983\n",
            "Test Accuracy: 0.800000011920929\n"
          ],
          "name": "stdout"
        }
      ]
    },
    {
      "cell_type": "code",
      "metadata": {
        "colab": {
          "base_uri": "https://localhost:8080/",
          "height": 518
        },
        "id": "VGlfUYy2XYdu",
        "outputId": "15a72d31-883e-4f07-cc68-1b297335d70e"
      },
      "source": [
        "plt.figure(figsize=(16, 8))\n",
        "plt.subplot(1, 2, 1)\n",
        "plot_graphs(history, 'accuracy')\n",
        "plt.ylim(None, 1)\n",
        "plt.subplot(1, 2, 2)\n",
        "plot_graphs(history, 'loss')\n",
        "plt.ylim(0, None)"
      ],
      "execution_count": null,
      "outputs": [
        {
          "output_type": "execute_result",
          "data": {
            "text/plain": [
              "(0.0, 0.6961198419332504)"
            ]
          },
          "metadata": {
            "tags": []
          },
          "execution_count": 154
        },
        {
          "output_type": "display_data",
          "data": {
            "image/png": "[encoded data removed]",
            "text/plain": [
              "<Figure size 1152x576 with 2 Axes>"
            ]
          },
          "metadata": {
            "tags": [],
            "needs_background": "light"
          }
        }
      ]
    },
    {
      "cell_type": "code",
      "metadata": {
        "colab": {
          "base_uri": "https://localhost:8080/"
        },
        "id": "HxRWBGEtXldf",
        "outputId": "b8c27a56-21e6-4c94-958d-fff3bc83aaaa"
      },
      "source": [
        "sample_text = ('The movie was cool. The animation and the graphics '\n",
        "               'were out of this world. I would recommend this movie.')\n",
        "predictions = model.predict(np.array([sample_text]))\n",
        "print(predictions)"
      ],
      "execution_count": null,
      "outputs": [
        {
          "output_type": "stream",
          "text": [
            "[[0.00524113]]\n"
          ],
          "name": "stdout"
        }
      ]
    }
  ]
}